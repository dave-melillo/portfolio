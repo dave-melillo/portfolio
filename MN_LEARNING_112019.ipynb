{
 "cells": [
  {
   "cell_type": "code",
   "execution_count": 12,
   "metadata": {},
   "outputs": [],
   "source": [
    "# numpy and pandas for data manipulation\n",
    "import numpy as np\n",
    "import pandas as pd \n",
    "\n",
    "# sklearn preprocessing for dealing with categorical variables\n",
    "from sklearn.preprocessing import LabelEncoder\n",
    "\n",
    "# File system manangement\n",
    "import os\n",
    "\n",
    "# Suppress warnings \n",
    "import warnings\n",
    "warnings.filterwarnings('ignore')\n",
    "\n",
    "# matplotlib and seaborn for plotting\n",
    "import matplotlib.pyplot as plt\n",
    "import seaborn as sns\n",
    "\n",
    "# Load libraries\n",
    "import pandas\n",
    "from pandas.plotting import scatter_matrix\n",
    "import matplotlib.pyplot as plt\n",
    "from sklearn import model_selection\n",
    "from sklearn.metrics import classification_report\n",
    "from sklearn.metrics import confusion_matrix\n",
    "from sklearn.metrics import accuracy_score\n",
    "from sklearn.linear_model import LogisticRegression\n",
    "from sklearn.tree import DecisionTreeClassifier\n",
    "from sklearn.neighbors import KNeighborsClassifier\n",
    "from sklearn.discriminant_analysis import LinearDiscriminantAnalysis\n",
    "from sklearn.naive_bayes import GaussianNB\n",
    "from sklearn.svm import SVC\n",
    "from sklearn.linear_model import LinearRegression\n",
    "from sklearn.datasets import make_regression"
   ]
  },
  {
   "cell_type": "code",
   "execution_count": 35,
   "metadata": {},
   "outputs": [
    {
     "name": "stdout",
     "output_type": "stream",
     "text": [
      "('Training data shape: ', (18340, 7))\n"
     ]
    },
    {
     "data": {
      "text/html": [
       "<div>\n",
       "<style scoped>\n",
       "    .dataframe tbody tr th:only-of-type {\n",
       "        vertical-align: middle;\n",
       "    }\n",
       "\n",
       "    .dataframe tbody tr th {\n",
       "        vertical-align: top;\n",
       "    }\n",
       "\n",
       "    .dataframe thead th {\n",
       "        text-align: right;\n",
       "    }\n",
       "</style>\n",
       "<table border=\"1\" class=\"dataframe\">\n",
       "  <thead>\n",
       "    <tr style=\"text-align: right;\">\n",
       "      <th></th>\n",
       "      <th>changedFiles</th>\n",
       "      <th>additions</th>\n",
       "      <th>deletions</th>\n",
       "      <th>duration</th>\n",
       "      <th>pullRequestReviews</th>\n",
       "      <th>reviewRequests</th>\n",
       "    </tr>\n",
       "  </thead>\n",
       "  <tbody>\n",
       "    <tr>\n",
       "      <th>count</th>\n",
       "      <td>18340.000000</td>\n",
       "      <td>18340.000000</td>\n",
       "      <td>18340.000000</td>\n",
       "      <td>1.834000e+04</td>\n",
       "      <td>18340.000000</td>\n",
       "      <td>18340.000000</td>\n",
       "    </tr>\n",
       "    <tr>\n",
       "      <th>mean</th>\n",
       "      <td>9.799128</td>\n",
       "      <td>482.536205</td>\n",
       "      <td>278.157797</td>\n",
       "      <td>3.083619e+05</td>\n",
       "      <td>1.071974</td>\n",
       "      <td>0.326772</td>\n",
       "    </tr>\n",
       "    <tr>\n",
       "      <th>std</th>\n",
       "      <td>66.920217</td>\n",
       "      <td>10595.377424</td>\n",
       "      <td>6553.998420</td>\n",
       "      <td>1.136347e+06</td>\n",
       "      <td>3.429161</td>\n",
       "      <td>0.702432</td>\n",
       "    </tr>\n",
       "    <tr>\n",
       "      <th>min</th>\n",
       "      <td>0.000000</td>\n",
       "      <td>0.000000</td>\n",
       "      <td>0.000000</td>\n",
       "      <td>2.000000e+00</td>\n",
       "      <td>0.000000</td>\n",
       "      <td>0.000000</td>\n",
       "    </tr>\n",
       "    <tr>\n",
       "      <th>25%</th>\n",
       "      <td>1.000000</td>\n",
       "      <td>3.000000</td>\n",
       "      <td>1.000000</td>\n",
       "      <td>2.099750e+03</td>\n",
       "      <td>0.000000</td>\n",
       "      <td>0.000000</td>\n",
       "    </tr>\n",
       "    <tr>\n",
       "      <th>50%</th>\n",
       "      <td>2.000000</td>\n",
       "      <td>16.000000</td>\n",
       "      <td>5.000000</td>\n",
       "      <td>4.721450e+04</td>\n",
       "      <td>0.000000</td>\n",
       "      <td>0.000000</td>\n",
       "    </tr>\n",
       "    <tr>\n",
       "      <th>75%</th>\n",
       "      <td>5.000000</td>\n",
       "      <td>80.000000</td>\n",
       "      <td>23.000000</td>\n",
       "      <td>2.458115e+05</td>\n",
       "      <td>1.000000</td>\n",
       "      <td>0.000000</td>\n",
       "    </tr>\n",
       "    <tr>\n",
       "      <th>max</th>\n",
       "      <td>2807.000000</td>\n",
       "      <td>860038.000000</td>\n",
       "      <td>550313.000000</td>\n",
       "      <td>3.604603e+07</td>\n",
       "      <td>124.000000</td>\n",
       "      <td>7.000000</td>\n",
       "    </tr>\n",
       "  </tbody>\n",
       "</table>\n",
       "</div>"
      ],
      "text/plain": [
       "       changedFiles      additions      deletions      duration  \\\n",
       "count  18340.000000   18340.000000   18340.000000  1.834000e+04   \n",
       "mean       9.799128     482.536205     278.157797  3.083619e+05   \n",
       "std       66.920217   10595.377424    6553.998420  1.136347e+06   \n",
       "min        0.000000       0.000000       0.000000  2.000000e+00   \n",
       "25%        1.000000       3.000000       1.000000  2.099750e+03   \n",
       "50%        2.000000      16.000000       5.000000  4.721450e+04   \n",
       "75%        5.000000      80.000000      23.000000  2.458115e+05   \n",
       "max     2807.000000  860038.000000  550313.000000  3.604603e+07   \n",
       "\n",
       "       pullRequestReviews  reviewRequests  \n",
       "count        18340.000000    18340.000000  \n",
       "mean             1.071974        0.326772  \n",
       "std              3.429161        0.702432  \n",
       "min              0.000000        0.000000  \n",
       "25%              0.000000        0.000000  \n",
       "50%              0.000000        0.000000  \n",
       "75%              1.000000        0.000000  \n",
       "max            124.000000        7.000000  "
      ]
     },
     "execution_count": 35,
     "metadata": {},
     "output_type": "execute_result"
    }
   ],
   "source": [
    "# load\n",
    "df = pd.read_csv('learning.csv')\n",
    "print('Training data shape: ', df.shape)\n",
    "#df.head()\n",
    "df.describe()"
   ]
  },
  {
   "cell_type": "code",
   "execution_count": 10,
   "metadata": {},
   "outputs": [
    {
     "data": {
      "text/html": [
       "<div>\n",
       "<style scoped>\n",
       "    .dataframe tbody tr th:only-of-type {\n",
       "        vertical-align: middle;\n",
       "    }\n",
       "\n",
       "    .dataframe tbody tr th {\n",
       "        vertical-align: top;\n",
       "    }\n",
       "\n",
       "    .dataframe thead th {\n",
       "        text-align: right;\n",
       "    }\n",
       "</style>\n",
       "<table border=\"1\" class=\"dataframe\">\n",
       "  <thead>\n",
       "    <tr style=\"text-align: right;\">\n",
       "      <th></th>\n",
       "      <th>changedFiles</th>\n",
       "      <th>additions</th>\n",
       "      <th>deletions</th>\n",
       "      <th>duration</th>\n",
       "      <th>pullRequestReviews</th>\n",
       "      <th>reviewRequests</th>\n",
       "    </tr>\n",
       "  </thead>\n",
       "  <tbody>\n",
       "    <tr>\n",
       "      <th>changedFiles</th>\n",
       "      <td>1.000000</td>\n",
       "      <td>0.374927</td>\n",
       "      <td>0.238807</td>\n",
       "      <td>0.002681</td>\n",
       "      <td>0.032538</td>\n",
       "      <td>0.015575</td>\n",
       "    </tr>\n",
       "    <tr>\n",
       "      <th>additions</th>\n",
       "      <td>0.374927</td>\n",
       "      <td>1.000000</td>\n",
       "      <td>0.047370</td>\n",
       "      <td>0.018571</td>\n",
       "      <td>0.040747</td>\n",
       "      <td>0.012206</td>\n",
       "    </tr>\n",
       "    <tr>\n",
       "      <th>deletions</th>\n",
       "      <td>0.238807</td>\n",
       "      <td>0.047370</td>\n",
       "      <td>1.000000</td>\n",
       "      <td>0.004102</td>\n",
       "      <td>0.014648</td>\n",
       "      <td>-0.001860</td>\n",
       "    </tr>\n",
       "    <tr>\n",
       "      <th>duration</th>\n",
       "      <td>0.002681</td>\n",
       "      <td>0.018571</td>\n",
       "      <td>0.004102</td>\n",
       "      <td>1.000000</td>\n",
       "      <td>0.047348</td>\n",
       "      <td>-0.021880</td>\n",
       "    </tr>\n",
       "    <tr>\n",
       "      <th>pullRequestReviews</th>\n",
       "      <td>0.032538</td>\n",
       "      <td>0.040747</td>\n",
       "      <td>0.014648</td>\n",
       "      <td>0.047348</td>\n",
       "      <td>1.000000</td>\n",
       "      <td>0.052829</td>\n",
       "    </tr>\n",
       "    <tr>\n",
       "      <th>reviewRequests</th>\n",
       "      <td>0.015575</td>\n",
       "      <td>0.012206</td>\n",
       "      <td>-0.001860</td>\n",
       "      <td>-0.021880</td>\n",
       "      <td>0.052829</td>\n",
       "      <td>1.000000</td>\n",
       "    </tr>\n",
       "  </tbody>\n",
       "</table>\n",
       "</div>"
      ],
      "text/plain": [
       "                    changedFiles  additions  deletions  duration  \\\n",
       "changedFiles            1.000000   0.374927   0.238807  0.002681   \n",
       "additions               0.374927   1.000000   0.047370  0.018571   \n",
       "deletions               0.238807   0.047370   1.000000  0.004102   \n",
       "duration                0.002681   0.018571   0.004102  1.000000   \n",
       "pullRequestReviews      0.032538   0.040747   0.014648  0.047348   \n",
       "reviewRequests          0.015575   0.012206  -0.001860 -0.021880   \n",
       "\n",
       "                    pullRequestReviews  reviewRequests  \n",
       "changedFiles                  0.032538        0.015575  \n",
       "additions                     0.040747        0.012206  \n",
       "deletions                     0.014648       -0.001860  \n",
       "duration                      0.047348       -0.021880  \n",
       "pullRequestReviews            1.000000        0.052829  \n",
       "reviewRequests                0.052829        1.000000  "
      ]
     },
     "execution_count": 10,
     "metadata": {},
     "output_type": "execute_result"
    }
   ],
   "source": [
    "# Extract the EXT_SOURCE variables and show correlations\n",
    "ext_data_corrs = df.corr()\n",
    "ext_data_corrs"
   ]
  },
  {
   "cell_type": "code",
   "execution_count": 4,
   "metadata": {},
   "outputs": [
    {
     "data": {
      "image/png": "[encoded data removed]",
      "text/plain": [
       "<Figure size 576x432 with 2 Axes>"
      ]
     },
     "metadata": {},
     "output_type": "display_data"
    }
   ],
   "source": [
    "plt.figure(figsize = (8, 6))\n",
    "\n",
    "# Heatmap of correlations\n",
    "sns.heatmap(ext_data_corrs, cmap = plt.cm.RdYlBu_r, vmin = -0.25, annot = True, vmax = 0.6)\n",
    "plt.title('Correlation Heatmap');"
   ]
  },
  {
   "cell_type": "code",
   "execution_count": 70,
   "metadata": {},
   "outputs": [
    {
     "data": {
      "text/plain": [
       "LinearRegression(copy_X=True, fit_intercept=True, n_jobs=1, normalize=False)"
      ]
     },
     "execution_count": 70,
     "metadata": {},
     "output_type": "execute_result"
    }
   ],
   "source": [
    "#file input\n",
    "learning = pd.read_csv('learning.csv')\n",
    "\n",
    "#features\n",
    "feature_cols = ['changedFiles','additions','deletions','pullRequestReviews','reviewRequests']\n",
    "#feature_cols = ['deletions','pullRequestReviews']\n",
    "\n",
    "#feature harness\n",
    "X = learning.loc[:, feature_cols]\n",
    "\n",
    "#target harness\n",
    "Y = learning.duration\n",
    "\n",
    "#model fit\n",
    "model = LinearRegression()\n",
    "model.fit(X, Y)"
   ]
  },
  {
   "cell_type": "code",
   "execution_count": 72,
   "metadata": {},
   "outputs": [
    {
     "name": "stdout",
     "output_type": "stream",
     "text": [
      "X=[55, 2428, 292, 0, 1], Predicted=263478.294487\n"
     ]
    }
   ],
   "source": [
    "# copy row from learning\n",
    "Xnew = [[55,2428,292,0,1]]\n",
    "# prediction\n",
    "ynew = model.predict(Xnew)\n",
    "# show the inputs and predicted outputs\n",
    "print(\"X=%s, Predicted=%s\" % (Xnew[0], ynew[0]))"
   ]
  },
  {
   "cell_type": "code",
   "execution_count": 73,
   "metadata": {},
   "outputs": [
    {
     "name": "stdout",
     "output_type": "stream",
     "text": [
      "X=[-1.07296862 -0.52817175 -0.61175641  1.62434536  0.86540763], Predicted=295808.526299\n",
      "X=[-0.38405435 -0.3224172  -2.06014071  1.46210794  1.13376944], Predicted=282494.555763\n",
      "X=[ 0.3190391  -0.7612069   1.74481176 -2.3015387  -0.24937038], Predicted=277437.789422\n"
     ]
    }
   ],
   "source": [
    "### fake new data\n",
    "Xnew,_ = make_regression(n_samples=3, n_features=5, noise=0.1, random_state=1)\n",
    "#predict\n",
    "ynew = model.predict(Xnew)\n",
    "#print inputs with predictions\n",
    "for i in range(len(Xnew)):\n",
    "\tprint(\"X=%s, Predicted=%s\" % (Xnew[i], ynew[i]))"
   ]
  },
  {
   "cell_type": "code",
   "execution_count": 74,
   "metadata": {},
   "outputs": [
    {
     "name": "stdout",
     "output_type": "stream",
     "text": [
      "MAE: -400306.937 (30287.522)\n",
      "MSE: -1288268437736.512 (528178334937.388)\n",
      "R^2: 0.001 (0.005)\n"
     ]
    }
   ],
   "source": [
    "#https://machinelearningmastery.com/metrics-evaluate-machine-learning-algorithms-python/\n",
    "# Cross Validation Regression MAE\n",
    "seed = 7\n",
    "kfold = model_selection.KFold(n_splits=10, random_state=seed)\n",
    "model = LinearRegression()\n",
    "scoring = 'neg_mean_absolute_error'\n",
    "results = model_selection.cross_val_score(model, X, Y, cv=kfold, scoring=scoring)\n",
    "print(\"MAE: %.3f (%.3f)\") % (results.mean(), results.std())\n",
    "\n",
    "# Cross Validation Regression MSE\n",
    "seed = 7\n",
    "kfold = model_selection.KFold(n_splits=10, random_state=seed)\n",
    "model = LinearRegression()\n",
    "scoring = 'neg_mean_squared_error'\n",
    "results = model_selection.cross_val_score(model, X, Y, cv=kfold, scoring=scoring)\n",
    "print(\"MSE: %.3f (%.3f)\") % (results.mean(), results.std())\n",
    "\n",
    "# Cross Validation Regression R^2\n",
    "seed = 7\n",
    "kfold = model_selection.KFold(n_splits=10, random_state=seed)\n",
    "model = LinearRegression()\n",
    "scoring = 'r2'\n",
    "results = model_selection.cross_val_score(model, X, Y, cv=kfold, scoring=scoring)\n",
    "print(\"R^2: %.3f (%.3f)\") % (results.mean(), results.std())"
   ]
  },
  {
   "cell_type": "code",
   "execution_count": null,
   "metadata": {},
   "outputs": [],
   "source": []
  }
 ],
 "metadata": {
  "kernelspec": {
   "display_name": "Python [conda env:root]",
   "language": "python",
   "name": "conda-root-py"
  },
  "language_info": {
   "codemirror_mode": {
    "name": "ipython",
    "version": 2
   },
   "file_extension": ".py",
   "mimetype": "text/x-python",
   "name": "python",
   "nbconvert_exporter": "python",
   "pygments_lexer": "ipython2",
   "version": "2.7.15"
  }
 },
 "nbformat": 4,
 "nbformat_minor": 2
}
